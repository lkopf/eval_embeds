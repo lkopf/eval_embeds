{
 "cells": [
  {
   "attachments": {},
   "cell_type": "markdown",
   "metadata": {},
   "source": [
    "## Qualitative similarity analysis\n",
    "\n",
    "Find top nearest neighbors for some example noun embeddings."
   ]
  },
  {
   "cell_type": "code",
   "execution_count": 30,
   "metadata": {},
   "outputs": [],
   "source": [
    "import gensim\n",
    "from gensim.models import KeyedVectors"
   ]
  },
  {
   "cell_type": "code",
   "execution_count": 31,
   "metadata": {},
   "outputs": [],
   "source": [
    "# Load embeddings\n",
    "w2v_ref = KeyedVectors.load_word2vec_format(\"../data/embeddings/ref_300dim.txt\", binary=False)\n",
    "w2v_sit = KeyedVectors.load_word2vec_format(\"../data/embeddings/sit_300dim.txt\", binary=False)\n",
    "w2v_den = KeyedVectors.load_word2vec_format(\"../data/embeddings/den_300dim.txt\", binary=False)\n",
    "w2v_vis = KeyedVectors.load_word2vec_format(\"../data/embeddings/vis_1031dim.txt\", binary=False)\n",
    "w2v_denref = KeyedVectors.load_word2vec_format(\"../data/embeddings/denref_600dim.txt\", binary=False)\n",
    "w2v_baroni = KeyedVectors.load_word2vec_format(\"../data/embeddings/baronimod_400dim.txt\", binary=False)"
   ]
  },
  {
   "cell_type": "code",
   "execution_count": 17,
   "metadata": {},
   "outputs": [],
   "source": [
    "embeddings = {\"ref\" : w2v_ref, \"sit\" : w2v_sit, \"den\" : w2v_den, \"vis\" : w2v_vis, \"denref\" : w2v_denref, \"baroni\" : w2v_baroni}\n",
    "nouns = [\"woman\", \"sidewalk\", \"grass\", \"couch\"]"
   ]
  },
  {
   "cell_type": "code",
   "execution_count": 40,
   "metadata": {},
   "outputs": [
    {
     "data": {
      "text/plain": [
       "'girl'"
      ]
     },
     "execution_count": 40,
     "metadata": {},
     "output_type": "execute_result"
    }
   ],
   "source": [
    "w2v_ref.most_similar(\"woman\")[1][0]"
   ]
  },
  {
   "cell_type": "code",
   "execution_count": 53,
   "metadata": {},
   "outputs": [],
   "source": [
    "def qualitative_similarity(embeddings: dict, nouns: list):\n",
    "    for noun in nouns:\n",
    "        print(noun)\n",
    "        for embed_name, embed in embeddings.items():\n",
    "            print(\"{}: {}\".format(embed_name, embed.most_similar(noun)))\n",
    "            # top4_nouns = [embed.most_similar(noun)[i][0] for i in range(4)]\n",
    "            # print(\"{}: {}\".format(embed_name,top4_nouns))"
   ]
  },
  {
   "cell_type": "code",
   "execution_count": 54,
   "metadata": {},
   "outputs": [
    {
     "name": "stdout",
     "output_type": "stream",
     "text": [
      "woman\n",
      "vis: [('lady', 0.9997225999832153), ('girl', 0.9986051917076111), ('women', 0.998528003692627), ('chick', 0.9964707493782043), ('female', 0.996466338634491), ('shirt', 0.9949144721031189), ('holding', 0.9946855306625366), ('gal', 0.9942476749420166), ('wearing', 0.9934124946594238), ('sweater', 0.9930185079574585)]\n",
      "baroni: [('girl', 0.6356706619262695), ('man', 0.6133990287780762), ('women', 0.5506843328475952), ('dark-haired', 0.5453897714614868), ('divorcée', 0.5442584753036499), ('englishwoman', 0.527808666229248), ('woman\\x92s', 0.525086522102356), ('lady', 0.5242884159088135), ('she', 0.5227102041244507), ('nymphomaniac', 0.5140066742897034)]\n",
      "ref: [('lady', 0.8860229253768921), ('girl', 0.7884520888328552), ('gal', 0.782679557800293), ('chick', 0.7798118591308594), ('women', 0.7759958505630493), ('gentleman', 0.7117356061935425), ('person', 0.6897722482681274), ('monk', 0.6869502663612366), ('strapless', 0.681032657623291), ('toddler', 0.67879319190979)]\n",
      "sit: [('man', 0.580463707447052), ('lady', 0.5306638479232788), ('person', 0.48799413442611694), ('girl', 0.47646135091781616), ('robe', 0.4744628965854645), ('customer', 0.44913250207901), ('hoody', 0.434895783662796), ('goofy', 0.42732757329940796), ('bride', 0.4219800531864166), ('barge', 0.42059239745140076)]\n",
      "denref: [('lady', 0.9004186391830444), ('women', 0.7903848886489868), ('chick', 0.7704287767410278), ('girl', 0.7698368430137634), ('gal', 0.7492507100105286), ('blouse', 0.7204544544219971), ('strapless', 0.703681468963623), ('shawl', 0.6935170888900757), ('cardigan', 0.6847424507141113), ('female', 0.6829009056091309)]\n",
      "den: [('lady', 0.9153499007225037), ('women', 0.8056626915931702), ('blouse', 0.7918543815612793), ('chick', 0.7756921648979187), ('gril', 0.7736780643463135), ('gal', 0.7699137926101685), ('earrings', 0.7635759115219116), ('llady', 0.763119101524353), ('stockings', 0.7613538503646851), ('woamn', 0.761035680770874)]\n",
      "sidewalk\n",
      "vis: [('pavement', 0.986922562122345), ('street', 0.9848058819770813), ('walkway', 0.9821488857269287), ('concrete', 0.9763767719268799), ('cement', 0.975974977016449), ('road', 0.9737421870231628), ('paved', 0.9699262380599976), ('steps', 0.9658841490745544), ('floor', 0.9618175029754639), ('walk', 0.959908127784729)]\n",
      "baroni: [('pavement', 0.5614597797393799), ('sidewalks', 0.5553873777389526), ('passersby', 0.46506789326667786), ('alleyway', 0.46120575070381165), ('street-side', 0.4561689496040344), ('lampposts', 0.4507315754890442), ('second-story', 0.43372058868408203), ('greenpoint', 0.43192124366760254), ('lamp-post', 0.4317191541194916), ('cobblestones', 0.4314587712287903)]\n",
      "ref: [('street', 0.8319189548492432), ('path', 0.8258481025695801), ('curb', 0.8155397176742554), ('stairs', 0.808189868927002), ('road', 0.8026341795921326), ('pavement', 0.7769305109977722), ('walkway', 0.7684885263442993), ('gravel', 0.7638863325119019), ('steps', 0.7440017461776733), ('beach', 0.7313963174819946)]\n",
      "sit: [('garbage', 0.5057123899459839), ('tram', 0.5048295259475708), ('bldg', 0.5032992362976074), ('buss', 0.4834815561771393), ('steeple', 0.47590041160583496), ('bumper', 0.47381505370140076), ('windshield', 0.4719606637954712), ('spiderman', 0.45009636878967285), ('la', 0.446518212556839), ('pavement', 0.443386971950531)]\n",
      "denref: [('path', 0.7244846224784851), ('street', 0.7183486819267273), ('walkway', 0.716218113899231), ('road', 0.703224778175354), ('curb', 0.6902848482131958), ('pavement', 0.6873477101325989), ('gravel', 0.6728800535202026), ('skateboarders', 0.6223374605178833), ('stairs', 0.6024492383003235), ('concrete', 0.5993746519088745)]\n",
      "den: [('walkway', 0.6819123029708862), ('walker', 0.6563517451286316), ('unicycle', 0.6459130048751831), ('path', 0.6417340040206909), ('sidewlak', 0.6377122402191162), ('storefront', 0.6245962977409363), ('street', 0.6177954077720642), ('ladie', 0.6165493130683899), ('pavement', 0.616533100605011), ('road', 0.6137540340423584)]\n",
      "grass\n",
      "vis: [('grassy', 0.9876617193222046), ('path', 0.9764080047607422), ('shrubs', 0.9740729331970215), ('bushes', 0.9719354510307312), ('dirt', 0.9627678394317627), ('pathway', 0.9622765779495239), ('gravel', 0.9606248140335083), ('trail', 0.960442841053009), ('patch', 0.9603947997093201), ('water', 0.959830641746521)]\n",
      "baroni: [('grasses', 0.6070449352264404), ('swards', 0.5224827527999878), ('mown', 0.5128982663154602), ('sward', 0.5099828243255615), ('fescues', 0.5027440190315247), ('turf', 0.5005432963371277), ('fescue', 0.4990832507610321), ('tussocky', 0.49041593074798584), ('re-seeded', 0.48956847190856934), ('meadow-grass', 0.4876936078071594)]\n",
      "ref: [('bushes', 0.7917094230651855), ('dirt', 0.7648062109947205), ('shrubs', 0.7644797563552856), ('grassy', 0.7481532096862793), ('rocks', 0.7476596832275391), ('shrub', 0.7231917381286621), ('land', 0.705226719379425), ('trees', 0.7030199766159058), ('plants', 0.7015324234962463), ('sand', 0.6987397074699402)]\n",
      "sit: [('ridge', 0.564383864402771), ('tree', 0.5530281066894531), ('sky', 0.5481334924697876), ('trees', 0.5463805794715881), ('bank', 0.5348666906356812), ('rv', 0.5314326286315918), ('lampost', 0.5270282030105591), ('cattle', 0.5226519107818604), ('haha', 0.5219202041625977), ('express', 0.5201315879821777)]\n",
      "denref: [('grassy', 0.7279760837554932), ('hay', 0.6846389770507812), ('dirt', 0.677824854850769), ('pasture', 0.6656570434570312), ('grazing', 0.6598225831985474), ('shrubs', 0.6562591791152954), ('rocks', 0.6557506322860718), ('land', 0.6551792621612549), ('gravel', 0.6407853960990906), ('bushes', 0.6384089589118958)]\n",
      "den: [('grassland', 0.7293596267700195), ('grazing', 0.7279109358787537), ('graze', 0.7196094989776611), ('grassy', 0.7109119892120361), ('grazes', 0.7022799253463745), ('hay', 0.6961401700973511), ('partialzebra', 0.6932449340820312), ('leftzebra', 0.6900988221168518), ('plains', 0.6897709965705872), ('heres', 0.6830443143844604)]\n",
      "couch\n",
      "vis: [('sofa', 0.9946348071098328), ('pillow', 0.9905042052268982), ('pillows', 0.9890464544296265), ('cushions', 0.9737486839294434), ('love', 0.9710073471069336), ('armchair', 0.9691686630249023), ('bed', 0.9676069617271423), ('cushion', 0.9667365550994873), ('loveseat', 0.9650447368621826), ('recliner', 0.9564770460128784)]\n",
      "baroni: [('sofa', 0.46532750129699707), ('settee', 0.4336766004562378), ('armchair', 0.43230193853378296), ('reclines', 0.4319344758987427), ('hearthrug', 0.4116227924823761), ('arm-chair', 0.4111573398113251), ('snuggling', 0.40945175290107727), ('beanbag', 0.40537816286087036), ('bed', 0.396312952041626), ('couches', 0.39617347717285156)]\n",
      "ref: [('sofa', 0.8969906568527222), ('loveseat', 0.7536095976829529), ('armchair', 0.7227557301521301), ('pillow', 0.6934122443199158), ('pillows', 0.6797477006912231), ('chair', 0.6745058298110962), ('cushion', 0.6702269315719604), ('recliner', 0.6692264080047607), ('cushions', 0.6582461595535278), ('mattress', 0.6566437482833862)]\n",
      "sit: [('ottoman', 0.6184918880462646), ('sofa', 0.5833068490028381), ('seater', 0.5768177509307861), ('zombie', 0.5677533149719238), ('furniture', 0.5558125972747803), ('armchair', 0.5418394804000854), ('recliner', 0.5250734686851501), ('flannel', 0.48260587453842163), ('living', 0.4825877547264099), ('futon', 0.48043617606163025)]\n",
      "denref: [('sofa', 0.917528510093689), ('loveseat', 0.7569751739501953), ('pillows', 0.721964955329895), ('cushions', 0.7156035900115967), ('living', 0.7114328742027283), ('pillow', 0.6986337900161743), ('armchair', 0.6950387954711914), ('furniture', 0.6930965781211853), ('futon', 0.6876189708709717), ('seater', 0.6780030131340027)]\n",
      "den: [('sofa', 0.9320616722106934), ('loveseat', 0.7854396104812622), ('living', 0.771570086479187), ('cushions', 0.7541255950927734), ('sectional', 0.7526533007621765), ('pillows', 0.7505176663398743), ('couche', 0.7374845743179321), ('furniture', 0.7369595766067505), ('futon', 0.7359185218811035), ('cushioned', 0.7357280850410461)]\n"
     ]
    }
   ],
   "source": [
    "qualitative_similarity(embeddings, nouns)"
   ]
  },
  {
   "cell_type": "code",
   "execution_count": null,
   "metadata": {},
   "outputs": [],
   "source": []
  }
 ],
 "metadata": {
  "kernelspec": {
   "display_name": "gensim",
   "language": "python",
   "name": "gensim"
  },
  "language_info": {
   "codemirror_mode": {
    "name": "ipython",
    "version": 3
   },
   "file_extension": ".py",
   "mimetype": "text/x-python",
   "name": "python",
   "nbconvert_exporter": "python",
   "pygments_lexer": "ipython3",
   "version": "3.5.6"
  },
  "orig_nbformat": 4
 },
 "nbformat": 4,
 "nbformat_minor": 2
}
